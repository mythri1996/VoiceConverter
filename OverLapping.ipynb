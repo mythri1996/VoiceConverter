{
  "nbformat": 4,
  "nbformat_minor": 0,
  "metadata": {
    "colab": {
      "name": "OverLapping.ipynb",
      "provenance": [],
      "mount_file_id": "1X9CssVUU6CtP5sndEMpXpASpsgDjA2bw",
      "authorship_tag": "ABX9TyOxrkkfwz4vpnAaBNllJ4m+",
      "include_colab_link": true
    },
    "kernelspec": {
      "name": "python3",
      "display_name": "Python 3"
    },
    "language_info": {
      "name": "python"
    },
    "accelerator": "GPU"
  },
  "cells": [
    {
      "cell_type": "markdown",
      "metadata": {
        "id": "view-in-github",
        "colab_type": "text"
      },
      "source": [
        "<a href=\"https://colab.research.google.com/github/mythri1996/VoiceConverter/blob/main/OverLapping.ipynb\" target=\"_parent\"><img src=\"https://colab.research.google.com/assets/colab-badge.svg\" alt=\"Open In Colab\"/></a>"
      ]
    },
    {
      "cell_type": "code",
      "metadata": {
        "id": "JSKieqtOxyJk"
      },
      "source": [
        " # convert mp3 file to wav file\n",
        "from pydub import AudioSegment\n",
        "from playsound import playsound\n",
        "from pydub.playback import play\n",
        "\n"
      ],
      "execution_count": 10,
      "outputs": []
    },
    {
      "cell_type": "code",
      "metadata": {
        "id": "zOHauoPjx7D9"
      },
      "source": [
        "mp3_audio1 = \"male.mp3\"\n",
        "wav_audio1 = \"male.wav\""
      ],
      "execution_count": 14,
      "outputs": []
    },
    {
      "cell_type": "code",
      "metadata": {
        "id": "sZApt9deyDJ4"
      },
      "source": [
        "mp3_audio2 = \"female.mp3\"\n",
        "wav_audio2 = \"female.wav\""
      ],
      "execution_count": 15,
      "outputs": []
    },
    {
      "cell_type": "code",
      "metadata": {
        "colab": {
          "base_uri": "https://localhost:8080/"
        },
        "id": "rPD1E1Q90ure",
        "outputId": "631dd17a-66cc-4ef3-dc49-45970d31ac1c"
      },
      "source": [
        "music1= AudioSegment.from_mp3(mp3_audio1)\n",
        "music1.export(wav_audio1, format=\"wav\")"
      ],
      "execution_count": 16,
      "outputs": [
        {
          "output_type": "execute_result",
          "data": {
            "text/plain": [
              "<_io.BufferedRandom name='male.wav'>"
            ]
          },
          "metadata": {
            "tags": []
          },
          "execution_count": 16
        }
      ]
    },
    {
      "cell_type": "code",
      "metadata": {
        "colab": {
          "base_uri": "https://localhost:8080/"
        },
        "id": "HbG-WvPy05d2",
        "outputId": "f12fb281-2a8a-40f1-9b60-54561c5ac334"
      },
      "source": [
        "music2= AudioSegment.from_mp3(mp3_audio2)\n",
        "music2.export(wav_audio2, format=\"wav\")"
      ],
      "execution_count": 17,
      "outputs": [
        {
          "output_type": "execute_result",
          "data": {
            "text/plain": [
              "<_io.BufferedRandom name='female.wav'>"
            ]
          },
          "metadata": {
            "tags": []
          },
          "execution_count": 17
        }
      ]
    },
    {
      "cell_type": "code",
      "metadata": {
        "id": "KydkgheT0-2h"
      },
      "source": [
        "# Overlapping of audio"
      ],
      "execution_count": 18,
      "outputs": []
    },
    {
      "cell_type": "code",
      "metadata": {
        "id": "Db2AUhRF1ItS"
      },
      "source": [
        "music1 = AudioSegment.from_file(\"male.wav\")\n",
        "music2 = AudioSegment.from_file(\"female.wav\")"
      ],
      "execution_count": 19,
      "outputs": []
    },
    {
      "cell_type": "code",
      "metadata": {
        "colab": {
          "base_uri": "https://localhost:8080/"
        },
        "id": "fsyblR6R1Mg-",
        "outputId": "051f83bc-d06d-4b39-fb17-f9a0a052d7db"
      },
      "source": [
        "combined = music1.overlay(music2)\n",
        "combined.export(\"Mixed1.wav\", format='wav')\n"
      ],
      "execution_count": 22,
      "outputs": [
        {
          "output_type": "execute_result",
          "data": {
            "text/plain": [
              "<_io.BufferedRandom name='Mixed1.wav'>"
            ]
          },
          "metadata": {
            "tags": []
          },
          "execution_count": 22
        }
      ]
    },
    {
      "cell_type": "code",
      "metadata": {
        "id": "eXGYyj9-2vWw"
      },
      "source": [
        "song = AudioSegment.from_wav(\"Mixed1.wav\")\n",
        "play(song)"
      ],
      "execution_count": 26,
      "outputs": []
    }
  ]
}